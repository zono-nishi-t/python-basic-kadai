{
  "nbformat": 4,
  "nbformat_minor": 0,
  "metadata": {
    "colab": {
      "provenance": []
    },
    "kernelspec": {
      "name": "python3",
      "display_name": "Python 3"
    },
    "language_info": {
      "name": "python"
    }
  },
  "cells": [
    {
      "cell_type": "code",
      "execution_count": 6,
      "metadata": {
        "colab": {
          "base_uri": "https://localhost:8080/"
        },
        "id": "xhigcSYVHxCI",
        "outputId": "4d490bf8-6cc4-47a8-ab4d-20002b1cdc96"
      },
      "outputs": [
        {
          "output_type": "stream",
          "name": "stdout",
          "text": [
            "税込価格: 121.0\n"
          ]
        }
      ],
      "source": [
        "# 税込み価格を計算する関数の定義\n",
        "def calculate_total_price(price, tax_percent):\n",
        "    \"\"\"\n",
        "    商品の価格と消費税率を受け取り、税込価格を計算して返す関数。\n",
        "\n",
        "    Parameters:\n",
        "    price (float): 商品の価格\n",
        "    tax_percent (float): 消費税率（例：10 は 10%）\n",
        "\n",
        "    Returns:\n",
        "    float: 税込み価格\n",
        "    \"\"\"\n",
        "    total = price + (price * tax_percent / 100)\n",
        "    return total\n",
        "\n",
        "# 関数の使用\n",
        "item_price = 110       # 商品の価格\n",
        "tax_rate_percent = 10  # 消費税率（%）\n",
        "\n",
        "# 関数の呼び出しと戻り値の受け取り\n",
        "total_price = calculate_total_price(item_price, tax_rate_percent)\n",
        "\n",
        "# 結果の表示\n",
        "print(\"税込価格:\", total_price)\n"
      ]
    }
  ]
}