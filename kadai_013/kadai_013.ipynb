{
  "nbformat": 4,
  "nbformat_minor": 0,
  "metadata": {
    "colab": {
      "provenance": []
    },
    "kernelspec": {
      "name": "python3",
      "display_name": "Python 3"
    },
    "language_info": {
      "name": "python"
    }
  },
  "cells": [
    {
      "cell_type": "code",
      "execution_count": 5,
      "metadata": {
        "colab": {
          "base_uri": "https://localhost:8080/"
        },
        "id": "xhigcSYVHxCI",
        "outputId": "710f2c80-1cf2-4357-84f0-b0e238cf710a"
      },
      "outputs": [
        {
          "output_type": "stream",
          "name": "stdout",
          "text": [
            "消費税額: 550.0\n"
          ]
        }
      ],
      "source": [
        "# 消費税を計算する関数の定義\n",
        "def calculate_tax(price, tax_rate):\n",
        "    \"\"\"\n",
        "    商品の価格と消費税率を受け取り、消費税額を計算して返す関数。\n",
        "\n",
        "    Parameters:\n",
        "    price (float): 商品の価格\n",
        "    tax_rate (float): 消費税率（例: 0.10 は10%）\n",
        "\n",
        "    Returns:\n",
        "    float: 消費税額\n",
        "    \"\"\"\n",
        "    tax = price * tax_rate\n",
        "    return tax\n",
        "\n",
        "# 関数の使用例\n",
        "item_price = 5500       # 商品の価格（例：5500円）\n",
        "tax_rate = 0.1          # 消費税率（例：10%）\n",
        "\n",
        "# 関数を呼び出して計算結果を取得\n",
        "tax_amount = calculate_tax(item_price, tax_rate)\n",
        "\n",
        "# 結果の表示\n",
        "print(\"消費税額:\", tax_amount)\n"
      ]
    }
  ]
}