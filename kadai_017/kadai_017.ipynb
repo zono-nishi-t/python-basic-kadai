{
  "nbformat": 4,
  "nbformat_minor": 0,
  "metadata": {
    "colab": {
      "provenance": []
    },
    "kernelspec": {
      "name": "python3",
      "display_name": "Python 3"
    },
    "language_info": {
      "name": "python"
    }
  },
  "cells": [
    {
      "cell_type": "code",
      "execution_count": 2,
      "metadata": {
        "colab": {
          "base_uri": "https://localhost:8080/"
        },
        "id": "V9W5tRe-X6b5",
        "outputId": "fb8e9510-baf0-4f77-849b-dfdf66cc8eff"
      },
      "outputs": [
        {
          "output_type": "stream",
          "name": "stdout",
          "text": [
            "佐藤健（25歳）は大人です。\n",
            "山田花子（17歳）は大人ではありません。\n",
            "大谷翔平（3歳）は大人ではありません。\n",
            "西田裕子（59歳）は大人です。\n"
          ]
        }
      ],
      "source": [
        "# Humanクラスを定義\n",
        "class Human:\n",
        "    # コンストラクタで名前と年齢を初期化\n",
        "    def __init__(self, name, age):\n",
        "        self.name = name\n",
        "        self.age = age\n",
        "\n",
        "    # 年齢によって大人かどうか判定し出力するメソッド\n",
        "    def check_adult(self):\n",
        "        if self.age >= 20:\n",
        "            print(f\"{self.name}（{self.age}歳）は大人です。\")\n",
        "        else:\n",
        "            print(f\"{self.name}（{self.age}歳）は大人ではありません。\")\n",
        "\n",
        "# Humanインスタンスを複数作成し、リストに追加\n",
        "people = [\n",
        "    Human(\"佐藤健\", 25),\n",
        "    Human(\"山田花子\", 17),\n",
        "    Human(\"大谷翔平\", 3),\n",
        "    Human(\"西田裕子\", 59)\n",
        "]\n",
        "\n",
        "# リストの各要素に対してcheck_adultメソッドを実行\n",
        "for person in people:\n",
        "    person.check_adult()\n"
      ]
    }
  ]
}