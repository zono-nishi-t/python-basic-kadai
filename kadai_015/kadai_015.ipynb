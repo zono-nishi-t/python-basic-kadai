{
  "nbformat": 4,
  "nbformat_minor": 0,
  "metadata": {
    "colab": {
      "provenance": []
    },
    "kernelspec": {
      "name": "python3",
      "display_name": "Python 3"
    },
    "language_info": {
      "name": "python"
    }
  },
  "cells": [
    {
      "cell_type": "code",
      "execution_count": 2,
      "metadata": {
        "colab": {
          "base_uri": "https://localhost:8080/"
        },
        "id": "O08HYf47LBFx",
        "outputId": "0045ff53-cc20-4841-82b4-d7c6022e67d6"
      },
      "outputs": [
        {
          "output_type": "stream",
          "name": "stdout",
          "text": [
            "名前: 小田雄二, 年齢: 65\n"
          ]
        }
      ],
      "source": [
        "# Humanクラスを定義\n",
        "class Human:\n",
        "    # コンストラクタで名前(name)と年齢(age)を受け取って属性として保持\n",
        "    def __init__(self, name, age):\n",
        "        self.name = name\n",
        "        self.age = age\n",
        "\n",
        "    # 名前と年齢を出力するメソッド\n",
        "    def printinfo(self):\n",
        "        print(f\"名前: {self.name}, 年齢: {self.age}\")\n",
        "\n",
        "# Humanクラスのインスタンスを作成し、変数personに代入\n",
        "person = Human(\"小田雄二\", 65)\n",
        "\n",
        "# printinfoメソッドを使用して情報を出力\n",
        "person.printinfo()\n"
      ]
    }
  ]
}