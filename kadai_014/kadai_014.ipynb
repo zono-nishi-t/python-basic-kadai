{
  "nbformat": 4,
  "nbformat_minor": 0,
  "metadata": {
    "colab": {
      "provenance": []
    },
    "kernelspec": {
      "name": "python3",
      "display_name": "Python 3"
    },
    "language_info": {
      "name": "python"
    }
  },
  "cells": [
    {
      "cell_type": "code",
      "execution_count": 1,
      "metadata": {
        "colab": {
          "base_uri": "https://localhost:8080/"
        },
        "id": "wUlRHZ2UeTTp",
        "outputId": "c4838cec-20d8-4b4b-b2cb-8ebb414885a5"
      },
      "outputs": [
        {
          "output_type": "stream",
          "name": "stdout",
          "text": [
            "330.0\n"
          ]
        }
      ],
      "source": [
        "price1 = 100\n",
        "price2 = 200\n",
        "tax = 1.1  # グローバルスコープ\n",
        "\n",
        "def total():\n",
        "    # 関数内はローカルスコープ（この中で定義した変数はこの中でしか使えない）\n",
        "    return price1 + price2  # price1, price2 はグローバル変数なので参照可能\n",
        "\n",
        "# ここはグローバルスコープ\n",
        "print(total() * tax)\n"
      ]
    }
  ]
}