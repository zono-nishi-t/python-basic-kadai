{
  "nbformat": 4,
  "nbformat_minor": 0,
  "metadata": {
    "colab": {
      "provenance": []
    },
    "kernelspec": {
      "name": "python3",
      "display_name": "Python 3"
    },
    "language_info": {
      "name": "python"
    }
  },
  "cells": [
    {
      "cell_type": "code",
      "execution_count": 8,
      "metadata": {
        "colab": {
          "base_uri": "https://localhost:8080/"
        },
        "id": "kHMZN21bMfEO",
        "outputId": "0e0967be-f1d6-4927-c6f1-da0764376e9f"
      },
      "outputs": [
        {
          "output_type": "stream",
          "name": "stdout",
          "text": [
            "リストから天気予報: 水曜日は晴れです\n",
            "ディクショナリからの天気予報: 水曜日は晴れです\n"
          ]
        }
      ],
      "source": [
        "# リストの作成\n",
        "array = [\n",
        "    \"月曜日は晴れです\",\n",
        "    \"火曜日は雨です\",\n",
        "    \"水曜日は晴れです\",\n",
        "    \"木曜日は晴れです\",\n",
        "    \"金曜日は曇りです\",\n",
        "    \"土曜日は曇りのち雨です\",\n",
        "    \"日曜日は雷雨です\"\n",
        "]\n",
        "\n",
        "# ディクショナリの作成\n",
        "dictionary = {\n",
        "    \"mon\": \"晴れ\",\n",
        "    \"tue\": \"雨\",\n",
        "    \"wed\": \"晴れ\",\n",
        "    \"thu\": \"晴れ\",\n",
        "    \"fri\": \"曇り\",\n",
        "    \"sat\": \"曇りのち雨\",\n",
        "    \"sun\": \"雷雨\"\n",
        "}\n",
        "\n",
        "# 水曜日の天気予報をリストから取得して出力\n",
        "print(\"リストから天気予報:\", array[2])\n",
        "\n",
        "# 水曜日の天気予報をディクショナリから取得して出力\n",
        "print(\"ディクショナリからの天気予報: 水曜日は\" + dictionary[\"wed\"] + \"です\")\n"
      ]
    }
  ]
}