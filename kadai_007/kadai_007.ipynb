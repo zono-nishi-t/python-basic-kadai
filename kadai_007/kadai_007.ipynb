{
  "nbformat": 4,
  "nbformat_minor": 0,
  "metadata": {
    "colab": {
      "provenance": []
    },
    "kernelspec": {
      "name": "python3",
      "display_name": "Python 3"
    },
    "language_info": {
      "name": "python"
    }
  },
  "cells": [
    {
      "cell_type": "code",
      "execution_count": 1,
      "metadata": {
        "colab": {
          "base_uri": "https://localhost:8080/",
          "height": 54
        },
        "id": "PtJhfmKus_H_",
        "outputId": "4821b9de-18bc-4ef7-ee9b-e48520e79f01"
      },
      "outputs": [
        {
          "output_type": "stream",
          "name": "stdout",
          "text": [
            "水曜日は晴れです\n"
          ]
        },
        {
          "output_type": "execute_result",
          "data": {
            "text/plain": [
              "'水曜日は晴れです'"
            ],
            "application/vnd.google.colaboratory.intrinsic+json": {
              "type": "string"
            }
          },
          "metadata": {},
          "execution_count": 1
        }
      ],
      "source": [
        "def get_wednesday_forecast():\n",
        "    # リスト（天気の文章）\n",
        "    リスト = [\n",
        "        \"月曜日は晴れです\",\n",
        "        \"火曜日は雨です\",\n",
        "        \"水曜日は晴れです\",\n",
        "        \"木曜日は晴れです\",\n",
        "        \"木曜日は晴れです\",\n",
        "        \"土曜日は曇りのち雨です\",\n",
        "        \"日曜日は雷雨です\"\n",
        "    ]\n",
        "\n",
        "    # \"水曜日\" を含む要素を検索\n",
        "    for item in リスト:\n",
        "        if \"水曜日\" in item:\n",
        "            print(item)\n",
        "            return item\n",
        "\n",
        "# 実行\n",
        "get_wednesday_forecast()\n"
      ]
    }
  ]
}