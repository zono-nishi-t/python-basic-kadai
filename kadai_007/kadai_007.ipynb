{
  "nbformat": 4,
  "nbformat_minor": 0,
  "metadata": {
    "colab": {
      "provenance": []
    },
    "kernelspec": {
      "name": "python3",
      "display_name": "Python 3"
    },
    "language_info": {
      "name": "python"
    }
  },
  "cells": [
    {
      "cell_type": "code",
      "execution_count": 6,
      "metadata": {
        "colab": {
          "base_uri": "https://localhost:8080/"
        },
        "id": "kHMZN21bMfEO",
        "outputId": "24c58c08-bf43-4f2e-e943-791c9e1d7254"
      },
      "outputs": [
        {
          "output_type": "stream",
          "name": "stdout",
          "text": [
            "水曜日の天気予報: 晴れ\n"
          ]
        }
      ],
      "source": [
        "def get_wednesday_forecast():\n",
        "    # リストA（天気情報）\n",
        "    array = [\n",
        "        \"月曜日は晴れです\",\n",
        "        \"火曜日は雨です\",\n",
        "        \"水曜日は晴れです\",\n",
        "        \"木曜日は晴れです\",\n",
        "        \"木曜日は晴れです\",\n",
        "        \"土曜日は曇りのち雨です\",\n",
        "        \"日曜日は雷雨です\"\n",
        "    ]\n",
        "\n",
        "    # 曜日の日本語と略称の対応表\n",
        "    jp_days = [\"月曜日\", \"火曜日\", \"水曜日\", \"木曜日\", \"金曜日\", \"土曜日\", \"日曜日\"]\n",
        "    en_keys = [\"mon\", \"tue\", \"wed\", \"thu\", \"fri\", \"sat\", \"sun\"]\n",
        "\n",
        "    # ディクショナリB（曜日略称 -> 天気）\n",
        "    dictionary = {}\n",
        "\n",
        "    for jp_day, en_key in zip(jp_days, en_keys):\n",
        "        for entry in array:\n",
        "            if entry.startswith(jp_day):\n",
        "                weather = entry.replace(jp_day + \"は\", \"\").replace(\"です\", \"\")\n",
        "                dictionary[en_key] = weather\n",
        "                break  # 同じ曜日が複数あっても最初だけ使う\n",
        "\n",
        "    # 出力：水曜日の天気予報\n",
        "    print(\"水曜日の天気予報:\", dictionary[\"wed\"])\n",
        "\n",
        "\n",
        "# ★ ここが重要：関数を呼び出す\n",
        "get_wednesday_forecast()\n"
      ]
    }
  ]
}