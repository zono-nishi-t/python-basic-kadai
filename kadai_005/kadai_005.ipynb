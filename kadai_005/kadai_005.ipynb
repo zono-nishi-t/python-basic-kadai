{
  "nbformat": 4,
  "nbformat_minor": 0,
  "metadata": {
    "colab": {
      "provenance": []
    },
    "kernelspec": {
      "name": "python3",
      "display_name": "Python 3"
    },
    "language_info": {
      "name": "python"
    }
  },
  "cells": [
    {
      "cell_type": "code",
      "execution_count": 1,
      "metadata": {
        "colab": {
          "base_uri": "https://localhost:8080/"
        },
        "id": "IEx1xQKJP-i5",
        "outputId": "65cc7c69-2dec-4fdd-93e3-16315b009ddd"
      },
      "outputs": [
        {
          "output_type": "stream",
          "name": "stdout",
          "text": [
            "台形の面積は 75.0 cm² です。\n"
          ]
        }
      ],
      "source": [
        "# 台形の寸法（単位：cm）\n",
        "upper_base = 10\n",
        "lower_base = 20\n",
        "height = 5\n",
        "\n",
        "# 台形の面積を計算\n",
        "area = (upper_base + lower_base) * height / 2\n",
        "\n",
        "# 結果を表示\n",
        "print(f\"台形の面積は {area} cm² です。\")\n"
      ]
    }
  ]
}